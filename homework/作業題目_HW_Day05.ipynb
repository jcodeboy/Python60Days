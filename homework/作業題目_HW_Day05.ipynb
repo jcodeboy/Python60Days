{
 "cells": [
  {
   "cell_type": "markdown",
   "metadata": {
    "id": "oef8c2jr-PZY"
   },
   "source": [
    "作業目標<br>\n",
    "計算有缺失值的資料，統計量實作<br>\n",
    "作業重點<br>\n",
    "當遇到缺失值有函式可以處理，不須額外寫程式刪除<br>\n",
    "計算統計量時不能出現缺失值"
   ]
  },
  {
   "cell_type": "markdown",
   "metadata": {
    "id": "4YgL8NF4-Ru3"
   },
   "source": [
    "題目:<br>\n",
    "english_score = np.array([55,89,76,65,48,70])<br>\n",
    "math_score = np.array([60,85,60,68,np.nan,60])<br>\n",
    "chinese_score = np.array([65,90,82,72,66,77])<br>\n",
    "上3列共六位同學的英文、數學、國文成績，第一個元素代表第一位同學，舉例第一位同學英文55分、數學60分、國文65分，今天第五位同學因某原因沒來考試，導致數學成績缺值，運用上列數據回答下列問題。<br>\n",
    "1. 請計算各科成績平均、最大值、最小值、標準差，其中數學缺一筆資料可忽略?\n",
    "2. 第五位同學補考數學後成績為55，請計算補考後數學成績平均、最大值、最小值、標準差?\n",
    "3. 用補考後資料找出與國文成績相關係數最高的學科?"
   ]
  },
  {
   "cell_type": "code",
   "execution_count": 3,
   "metadata": {
    "executionInfo": {
     "elapsed": 617,
     "status": "ok",
     "timestamp": 1609854566856,
     "user": {
      "displayName": "献竤黃",
      "photoUrl": "",
      "userId": "07529243043474362942"
     },
     "user_tz": -480
    },
    "id": "QwsKU8qO-RK7"
   },
   "outputs": [],
   "source": [
    "import numpy as np"
   ]
  },
  {
   "cell_type": "code",
   "execution_count": 4,
   "metadata": {
    "executionInfo": {
     "elapsed": 1016,
     "status": "ok",
     "timestamp": 1609854567261,
     "user": {
      "displayName": "献竤黃",
      "photoUrl": "",
      "userId": "07529243043474362942"
     },
     "user_tz": -480
    },
    "id": "B5BqDQAe_czh"
   },
   "outputs": [],
   "source": [
    "english_score = np.array([55,89,76,65,48,70])\n",
    "math_score = np.array([60,85,60,68,np.nan,60])\n",
    "chinese_score = np.array([65,90,82,72,66,77])"
   ]
  },
  {
   "cell_type": "code",
   "execution_count": 12,
   "metadata": {
    "executionInfo": {
     "elapsed": 1005,
     "status": "ok",
     "timestamp": 1609854567262,
     "user": {
      "displayName": "献竤黃",
      "photoUrl": "",
      "userId": "07529243043474362942"
     },
     "user_tz": -480
    },
    "id": "K3tUA6u9aI3N"
   },
   "outputs": [
    {
     "name": "stdout",
     "output_type": "stream",
     "text": [
      "最大值(english/math/chinese): 89/85.0/90\n",
      "最小值(english/math/chinese): 48/60.0/65\n",
      "平均(english/math/chinese): 67.16666666666667/66.6/75.33333333333333\n",
      "標準差(english/math/chinese): 13.433995020924426/9.707728879609279/8.825468196582484\n"
     ]
    }
   ],
   "source": [
    "#1. 請計算各科成績平均、最大值、最小值、標準差，其中數學缺一筆資料可忽略?\n",
    "max_english=np.nanmax(english_score)\n",
    "min_english=np.nanmin(english_score)\n",
    "avg_english=np.nanmean(english_score)\n",
    "std_english=np.nanstd(english_score)\n",
    "\n",
    "max_math=np.nanmax(math_score)\n",
    "min_math=np.nanmin(math_score)\n",
    "avg_math=np.nanmean(math_score)\n",
    "std_math=np.nanstd(math_score)\n",
    "\n",
    "max_chinese=np.nanmax(chinese_score)\n",
    "min_chinese=np.nanmin(chinese_score)\n",
    "avg_chinese=np.nanmean(chinese_score)\n",
    "std_chinese=np.nanstd(chinese_score)\n",
    "\n",
    "print(\"最大值(english/math/chinese): \" + str(max_english) + \"/\" + str(max_math) + \"/\" + str(max_chinese))\n",
    "print(\"最小值(english/math/chinese): \" + str(min_english) + \"/\" + str(min_math) + \"/\" + str(min_chinese))\n",
    "print(\"平均(english/math/chinese): \" + str(avg_english) + \"/\" + str(avg_math) + \"/\" + str(avg_chinese))\n",
    "print(\"標準差(english/math/chinese): \" + str(std_english) + \"/\" + str(std_math) + \"/\" + str(std_chinese))"
   ]
  },
  {
   "cell_type": "code",
   "execution_count": 13,
   "metadata": {
    "executionInfo": {
     "elapsed": 996,
     "status": "ok",
     "timestamp": 1609854567262,
     "user": {
      "displayName": "献竤黃",
      "photoUrl": "",
      "userId": "07529243043474362942"
     },
     "user_tz": -480
    },
    "id": "mXjDzvSrbLlf"
   },
   "outputs": [
    {
     "name": "stdout",
     "output_type": "stream",
     "text": [
      "最大值/最小值/平均/標準差: 85.0/55.0/64.66666666666667/9.860132971832694\n"
     ]
    }
   ],
   "source": [
    "#2. 第五位同學補考數學後成績為55，請計算補考後數學成績平均、最大值、最小值、標準差?\n",
    "math_score[4]=55\n",
    "\n",
    "max_math=np.nanmax(math_score)\n",
    "min_math=np.nanmin(math_score)\n",
    "avg_math=np.nanmean(math_score)\n",
    "std_math=np.nanstd(math_score)\n",
    "\n",
    "print(\"最大值/最小值/平均/標準差: \"+ str(max_math) + \"/\" + str(min_math) + \"/\" + str(avg_math) + \"/\" + str(std_math))"
   ]
  },
  {
   "cell_type": "code",
   "execution_count": 17,
   "metadata": {
    "executionInfo": {
     "elapsed": 989,
     "status": "ok",
     "timestamp": 1609854567264,
     "user": {
      "displayName": "献竤黃",
      "photoUrl": "",
      "userId": "07529243043474362942"
     },
     "user_tz": -480
    },
    "id": "SaGolKx0cKoU"
   },
   "outputs": [
    {
     "name": "stdout",
     "output_type": "stream",
     "text": [
      "english\n"
     ]
    }
   ],
   "source": [
    "#3. 用補考後資料找出與國文成績相關係數最高的學科?\n",
    "chinese_math=np.corrcoef(chinese_score, math_score)\n",
    "chinese_english=np.corrcoef(chinese_score, english_score)\n",
    "if abs(chinese_math[0,1]) >= abs(chinese_english[0,1]) :\n",
    "    print (\"math\")\n",
    "else :\n",
    "    print (\"english\")  "
   ]
  }
 ],
 "metadata": {
  "colab": {
   "authorship_tag": "ABX9TyPtywwDR7TsGGEOMGYLDT5h",
   "collapsed_sections": [],
   "name": "作業Hong題目.ipynb",
   "provenance": []
  },
  "kernelspec": {
   "display_name": "Python 3",
   "language": "python",
   "name": "python3"
  },
  "language_info": {
   "codemirror_mode": {
    "name": "ipython",
    "version": 3
   },
   "file_extension": ".py",
   "mimetype": "text/x-python",
   "name": "python",
   "nbconvert_exporter": "python",
   "pygments_lexer": "ipython3",
   "version": "3.7.3"
  }
 },
 "nbformat": 4,
 "nbformat_minor": 1
}
