{
 "cells": [
  {
   "cell_type": "markdown",
   "metadata": {},
   "source": [
    "## 作業:\n",
    "今天學到不同統計量之間特性，  \n",
    "試著分析男生女生身高資料，  \n",
    "試著回答下面的問題:  \n",
    "Q1:試著用今天所教的內容，如何描述這兩組資料的樣態?    \n",
    "Q2: 請問男生和女生在平均身高上誰比較高?   \n",
    "Q3:請問第二題的答案和日常生活中觀察的一致嗎? 如果不一致，你覺得原因可能為何?    \n",
    "上述問題透過  python 語法進行運算，\n",
    "並將上述答案填寫在 (google 表單)[https://forms.gle/EDdU2Zfq8zLvDea18]\n",
    "![](作業資料圖檔.PNG)"
   ]
  },
  {
   "cell_type": "code",
   "execution_count": 1,
   "metadata": {},
   "outputs": [
    {
     "name": "stderr",
     "output_type": "stream",
     "text": [
      "C:\\Users\\jcodeboy\\Anaconda3\\lib\\importlib\\_bootstrap.py:219: RuntimeWarning: numpy.ufunc size changed, may indicate binary incompatibility. Expected 192 from C header, got 216 from PyObject\n",
      "  return f(*args, **kwds)\n",
      "C:\\Users\\jcodeboy\\Anaconda3\\lib\\importlib\\_bootstrap.py:219: RuntimeWarning: numpy.ufunc size changed, may indicate binary incompatibility. Expected 192 from C header, got 216 from PyObject\n",
      "  return f(*args, **kwds)\n",
      "C:\\Users\\jcodeboy\\Anaconda3\\lib\\importlib\\_bootstrap.py:219: RuntimeWarning: numpy.ufunc size changed, may indicate binary incompatibility. Expected 192 from C header, got 216 from PyObject\n",
      "  return f(*args, **kwds)\n"
     ]
    }
   ],
   "source": [
    "# library\n",
    "import matplotlib.pyplot as plt\n",
    "import numpy as np\n",
    "import pandas as pd \n",
    "from scipy import stats\n",
    "import math\n",
    "import statistics\n",
    "import seaborn as sns"
   ]
  },
  {
   "cell_type": "code",
   "execution_count": 2,
   "metadata": {},
   "outputs": [],
   "source": [
    "## 輸入資料\n",
    "'''\n",
    "你的程式碼\n",
    "'''\n",
    "boys=[164, 176, 169, 169, 165, 175, 159, 151, 144, 160, 183, 165, 156, 170, 164, 173, 165, 163, 177, 171]\n",
    "girls=[169,183, 170, 168, 182, 170, 173, 185, 151, 156, 162, 169, 162, 181, 159, 154, 167, 175, 170, 160]"
   ]
  },
  {
   "cell_type": "code",
   "execution_count": 7,
   "metadata": {},
   "outputs": [
    {
     "name": "stdout",
     "output_type": "stream",
     "text": [
      "集中趨勢(boy):mean/median/mode : 165.95/165.0/165\n",
      "集中趨勢(girl):mean/median/mode : 168.3/169.0/170\n",
      "離散趨勢(boy):var/std/range : 80.6475/8.980395314238677/39\n",
      "離散趨勢(girl):var/std/range : 90.60999999999999/9.51892851112981/34\n"
     ]
    }
   ],
   "source": [
    "#Q1:試著用今天所教的內容，如何描述這兩組資料的樣態?\n",
    "#暗示:  分別計算男生和女生的統計量\n",
    "'''\n",
    "你的答案\n",
    "'''\n",
    "mean_boy= np.mean(boys)\n",
    "median_boy= np.median(boys)\n",
    "mode_boy= statistics.mode(boys)\n",
    "var_boy=np.var(boys)\n",
    "std_boy=np.std(boys)\n",
    "range_boy=np.max(boys)-np.min(boys)\n",
    "\n",
    "mean_girl= np.mean(girls)\n",
    "median_girl= np.median(girls)\n",
    "mode_girl= statistics.mode(girls)\n",
    "var_girl=np.var(girls)\n",
    "std_girl=np.std(girls)\n",
    "range_girl=np.max(girls)-np.min(girls)\n",
    "\n",
    "print('集中趨勢(boy):mean/median/mode : ' + str(mean_boy) +'/' + str(median_boy) +'/' + str(mode_boy))\n",
    "print('集中趨勢(girl):mean/median/mode : ' + str(mean_girl) +'/' + str(median_girl) +'/' + str(mode_girl))\n",
    "print('離散趨勢(boy):var/std/range : ' + str(var_boy) +'/' + str(std_boy) +'/' + str(range_boy))\n",
    "print('離散趨勢(girl):var/std/range : ' + str(var_girl) +'/' + str(std_girl) +'/' + str(range_girl))"
   ]
  },
  {
   "cell_type": "code",
   "execution_count": 4,
   "metadata": {},
   "outputs": [
    {
     "data": {
      "text/plain": [
       "'\\n你的答案\\n'"
      ]
     },
     "execution_count": 4,
     "metadata": {},
     "output_type": "execute_result"
    }
   ],
   "source": [
    "#Q2: 請問男生和女生在平均身高上誰比較高? \n",
    "'''\n",
    "集中趨勢(boy):mean/median/mode : 165.95/165.0/165\n",
    "集中趨勢(girl):mean/median/mode : 168.3/169.0/170\n",
    "\n",
    "Ans : 女生平均身高較高 \n",
    "\n",
    "'''"
   ]
  },
  {
   "cell_type": "code",
   "execution_count": 5,
   "metadata": {},
   "outputs": [
    {
     "data": {
      "text/plain": [
       "'\\n你的答案\\n'"
      ]
     },
     "execution_count": 5,
     "metadata": {},
     "output_type": "execute_result"
    }
   ],
   "source": [
    "#Q3:請問第二題的答案和日常生活中觀察的一致嗎? 如果不一致，你覺得原因可能為何? \n",
    "'''\n",
    "Ans : 樣本數不夠多\n",
    "\n",
    "'''"
   ]
  },
  {
   "cell_type": "code",
   "execution_count": 14,
   "metadata": {},
   "outputs": [
    {
     "data": {
      "image/png": "[encoded data removed]",
      "text/plain": [
       "<Figure size 432x288 with 1 Axes>"
      ]
     },
     "metadata": {},
     "output_type": "display_data"
    }
   ],
   "source": [
    "sns.set()\n",
    "sns.histplot(boys,label='boy')\n",
    "sns.histplot(girls,label='girl',color='g')\n",
    "plt.legend()\n",
    "plt.show()"
   ]
  }
 ],
 "metadata": {
  "colab": {
   "name": "Day33.YOLO 細節理解 - 網路輸出的後處理_HW.ipynb",
   "provenance": []
  },
  "kernelspec": {
   "display_name": "Python 3",
   "language": "python",
   "name": "python3"
  },
  "language_info": {
   "codemirror_mode": {
    "name": "ipython",
    "version": 3
   },
   "file_extension": ".py",
   "mimetype": "text/x-python",
   "name": "python",
   "nbconvert_exporter": "python",
   "pygments_lexer": "ipython3",
   "version": "3.7.3"
  }
 },
 "nbformat": 4,
 "nbformat_minor": 1
}
